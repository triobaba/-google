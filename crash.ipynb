{
 "cells": [
  {
   "cell_type": "code",
   "execution_count": 1,
   "metadata": {},
   "outputs": [],
   "source": [
    "#@title Import modules\n",
    "import numpy as np\n",
    "import pandas as pd\n",
    "import tensorflow as tf\n",
    "from matplotlib import pyplot as plt\n",
    "\n",
    "pd.options.display.max_rows = 10\n",
    "pd.options.display.float_format = \"{:.1f}\".format"
   ]
  },
  {
   "cell_type": "code",
   "execution_count": 2,
   "metadata": {},
   "outputs": [],
   "source": [
    "train_df=pd.read_csv('california_housing_train.csv')\n",
    "test_df=pd.read_csv('california_housing_test.csv')"
   ]
  },
  {
   "cell_type": "code",
   "execution_count": 3,
   "metadata": {},
   "outputs": [
    {
     "data": {
      "text/plain": [
       "0        66900.0\n",
       "1        80100.0\n",
       "2        85700.0\n",
       "3        73400.0\n",
       "4        65500.0\n",
       "          ...   \n",
       "16995   111400.0\n",
       "16996    79000.0\n",
       "16997   103600.0\n",
       "16998    85800.0\n",
       "16999    94600.0\n",
       "Name: median_house_value, Length: 17000, dtype: float64"
      ]
     },
     "execution_count": 3,
     "metadata": {},
     "output_type": "execute_result"
    }
   ],
   "source": [
    "(train_df.median_house_value)"
   ]
  },
  {
   "cell_type": "code",
   "execution_count": 4,
   "metadata": {},
   "outputs": [],
   "source": [
    "scale_factor = 1000.0\n",
    "\n",
    "# Scale the training set's label.\n",
    "train_df[\"median_house_value\"] /= scale_factor \n",
    "\n",
    "# Scale the test set's label\n",
    "test_df[\"median_house_value\"] /= scale_factor"
   ]
  },
  {
   "cell_type": "code",
   "execution_count": 5,
   "metadata": {},
   "outputs": [
    {
     "data": {
      "text/plain": [
       "0        66.9\n",
       "1        80.1\n",
       "2        85.7\n",
       "3        73.4\n",
       "4        65.5\n",
       "         ... \n",
       "16995   111.4\n",
       "16996    79.0\n",
       "16997   103.6\n",
       "16998    85.8\n",
       "16999    94.6\n",
       "Name: median_house_value, Length: 17000, dtype: float64"
      ]
     },
     "execution_count": 5,
     "metadata": {},
     "output_type": "execute_result"
    }
   ],
   "source": [
    "train_df.median_house_value"
   ]
  },
  {
   "cell_type": "code",
   "execution_count": 6,
   "metadata": {},
   "outputs": [
    {
     "name": "stdout",
     "output_type": "stream",
     "text": [
      "Defined the build_model and train_model functions.\n"
     ]
    }
   ],
   "source": [
    "#@title Define the functions that build and train a model\n",
    "def build_model(my_learning_rate):\n",
    "  \"\"\"Create and compile a simple linear regression model.\"\"\"\n",
    "  # Most simple tf.keras models are sequential.\n",
    "  model = tf.keras.models.Sequential()\n",
    "\n",
    "  # Add one linear layer to the model to yield a simple linear regressor.\n",
    "  model.add(tf.keras.layers.Dense(units=1, input_shape=(1,)))\n",
    "\n",
    "  # Compile the model topography into code that TensorFlow can efficiently\n",
    "  # execute. Configure training to minimize the model's mean squared error. \n",
    "  model.compile(optimizer=tf.keras.optimizers.experimental.RMSprop(learning_rate=my_learning_rate),\n",
    "                loss=\"mean_squared_error\",\n",
    "                metrics=[tf.keras.metrics.RootMeanSquaredError()])\n",
    "\n",
    "  return model               \n",
    "\n",
    "\n",
    "def train_model(model, df, feature, label, my_epochs, \n",
    "                my_batch_size=None, my_validation_split=0.1):\n",
    "  \"\"\"Feed a dataset into the model in order to train it.\"\"\"\n",
    "  \n",
    "  history = model.fit(x=df[feature],\n",
    "                      y=df[label],\n",
    "                      batch_size=my_batch_size,\n",
    "                      epochs=my_epochs,\n",
    "                      validation_split=my_validation_split)\n",
    "\n",
    "  # Gather the model's trained weight and bias.\n",
    "  trained_weight = model.get_weights()[0]\n",
    "  trained_bias = model.get_weights()[1]\n",
    "\n",
    "  # The list of epochs is stored separately from the \n",
    "  # rest of history.\n",
    "  epochs = history.epoch\n",
    "  \n",
    "  # Isolate the root mean squared error for each epoch.\n",
    "  hist = pd.DataFrame(history.history)\n",
    "  rmse = hist[\"root_mean_squared_error\"]\n",
    "\n",
    "  return epochs, rmse, history.history   \n",
    "\n",
    "print(\"Defined the build_model and train_model functions.\")\n"
   ]
  },
  {
   "cell_type": "code",
   "execution_count": 7,
   "metadata": {},
   "outputs": [
    {
     "name": "stdout",
     "output_type": "stream",
     "text": [
      "Defined the plot_the_loss_curve function.\n"
     ]
    }
   ],
   "source": [
    "#@title Define the plotting function\n",
    "\n",
    "def plot_the_loss_curve(epochs, mae_training, mae_validation):\n",
    "  \"\"\"Plot a curve of loss vs. epoch.\"\"\"\n",
    "\n",
    "  plt.figure()\n",
    "  plt.xlabel(\"Epoch\")\n",
    "  plt.ylabel(\"Root Mean Squared Error\")\n",
    "\n",
    "  plt.plot(epochs[1:], mae_training[1:], label=\"Training Loss\")\n",
    "  plt.plot(epochs[1:], mae_validation[1:], label=\"Validation Loss\")\n",
    "  plt.legend()\n",
    "  \n",
    "  # We're not going to plot the first epoch, since the loss on the first epoch\n",
    "  # is often substantially greater than the loss for other epochs.\n",
    "  merged_mae_lists = mae_training[1:] + mae_validation[1:]\n",
    "  highest_loss = max(merged_mae_lists)\n",
    "  lowest_loss = min(merged_mae_lists)\n",
    "  delta = highest_loss - lowest_loss\n",
    "  print(delta)\n",
    "\n",
    "  top_of_y_axis = highest_loss + (delta * 0.05)\n",
    "  bottom_of_y_axis = lowest_loss - (delta * 0.05)\n",
    "   \n",
    "  plt.ylim([bottom_of_y_axis, top_of_y_axis])\n",
    "  plt.show()  \n",
    "\n",
    "print(\"Defined the plot_the_loss_curve function.\")"
   ]
  },
  {
   "cell_type": "code",
   "execution_count": 8,
   "metadata": {},
   "outputs": [
    {
     "name": "stdout",
     "output_type": "stream",
     "text": [
      "Epoch 1/30\n",
      "155/155 [==============================] - 1s 3ms/step - loss: 39774.3359 - root_mean_squared_error: 199.4351 - val_loss: 28549.4355 - val_root_mean_squared_error: 168.9658\n",
      "Epoch 2/30\n",
      "155/155 [==============================] - 0s 2ms/step - loss: 21034.1133 - root_mean_squared_error: 145.0314 - val_loss: 13907.0283 - val_root_mean_squared_error: 117.9281\n",
      "Epoch 3/30\n",
      "155/155 [==============================] - 0s 2ms/step - loss: 10347.8740 - root_mean_squared_error: 101.7245 - val_loss: 7432.3784 - val_root_mean_squared_error: 86.2112\n",
      "Epoch 4/30\n",
      "155/155 [==============================] - 0s 3ms/step - loss: 7158.9912 - root_mean_squared_error: 84.6108 - val_loss: 6869.4844 - val_root_mean_squared_error: 82.8824\n",
      "Epoch 5/30\n",
      "155/155 [==============================] - 0s 2ms/step - loss: 7029.5088 - root_mean_squared_error: 83.8422 - val_loss: 6870.8701 - val_root_mean_squared_error: 82.8907\n",
      "Epoch 6/30\n",
      "155/155 [==============================] - 0s 2ms/step - loss: 7029.9263 - root_mean_squared_error: 83.8447 - val_loss: 6862.1060 - val_root_mean_squared_error: 82.8378\n",
      "Epoch 7/30\n",
      "155/155 [==============================] - 0s 2ms/step - loss: 7029.4810 - root_mean_squared_error: 83.8420 - val_loss: 6860.2900 - val_root_mean_squared_error: 82.8269\n",
      "Epoch 8/30\n",
      "155/155 [==============================] - 0s 2ms/step - loss: 7029.7910 - root_mean_squared_error: 83.8438 - val_loss: 6860.6538 - val_root_mean_squared_error: 82.8291\n",
      "Epoch 9/30\n",
      "155/155 [==============================] - 0s 2ms/step - loss: 7029.2954 - root_mean_squared_error: 83.8409 - val_loss: 6859.5142 - val_root_mean_squared_error: 82.8222\n",
      "Epoch 10/30\n",
      "155/155 [==============================] - 0s 2ms/step - loss: 7030.1094 - root_mean_squared_error: 83.8457 - val_loss: 6859.7007 - val_root_mean_squared_error: 82.8233\n",
      "Epoch 11/30\n",
      "155/155 [==============================] - 0s 2ms/step - loss: 7029.8486 - root_mean_squared_error: 83.8442 - val_loss: 6859.2446 - val_root_mean_squared_error: 82.8206\n",
      "Epoch 12/30\n",
      "155/155 [==============================] - 0s 2ms/step - loss: 7030.3398 - root_mean_squared_error: 83.8471 - val_loss: 6858.9580 - val_root_mean_squared_error: 82.8188\n",
      "Epoch 13/30\n",
      "155/155 [==============================] - 0s 2ms/step - loss: 7030.7705 - root_mean_squared_error: 83.8497 - val_loss: 6864.9707 - val_root_mean_squared_error: 82.8551\n",
      "Epoch 14/30\n",
      "155/155 [==============================] - 0s 2ms/step - loss: 7029.4507 - root_mean_squared_error: 83.8418 - val_loss: 6861.1143 - val_root_mean_squared_error: 82.8318\n",
      "Epoch 15/30\n",
      "155/155 [==============================] - 0s 2ms/step - loss: 7029.1680 - root_mean_squared_error: 83.8401 - val_loss: 6871.9692 - val_root_mean_squared_error: 82.8973\n",
      "Epoch 16/30\n",
      "155/155 [==============================] - 0s 2ms/step - loss: 7030.1997 - root_mean_squared_error: 83.8463 - val_loss: 6871.2041 - val_root_mean_squared_error: 82.8927\n",
      "Epoch 17/30\n",
      "155/155 [==============================] - 0s 2ms/step - loss: 7030.6689 - root_mean_squared_error: 83.8491 - val_loss: 6867.5073 - val_root_mean_squared_error: 82.8704\n",
      "Epoch 18/30\n",
      "155/155 [==============================] - 0s 2ms/step - loss: 7028.9360 - root_mean_squared_error: 83.8388 - val_loss: 6864.7349 - val_root_mean_squared_error: 82.8537\n",
      "Epoch 19/30\n",
      "155/155 [==============================] - 0s 2ms/step - loss: 7029.5171 - root_mean_squared_error: 83.8422 - val_loss: 6858.4849 - val_root_mean_squared_error: 82.8160\n",
      "Epoch 20/30\n",
      "155/155 [==============================] - 0s 2ms/step - loss: 7030.4746 - root_mean_squared_error: 83.8479 - val_loss: 6861.1240 - val_root_mean_squared_error: 82.8319\n",
      "Epoch 21/30\n",
      "155/155 [==============================] - 0s 2ms/step - loss: 7029.8789 - root_mean_squared_error: 83.8444 - val_loss: 6868.1523 - val_root_mean_squared_error: 82.8743\n",
      "Epoch 22/30\n",
      "155/155 [==============================] - 0s 2ms/step - loss: 7029.4160 - root_mean_squared_error: 83.8416 - val_loss: 6858.4648 - val_root_mean_squared_error: 82.8158\n",
      "Epoch 23/30\n",
      "155/155 [==============================] - 0s 2ms/step - loss: 7030.4805 - root_mean_squared_error: 83.8480 - val_loss: 6868.0063 - val_root_mean_squared_error: 82.8734\n",
      "Epoch 24/30\n",
      "155/155 [==============================] - 0s 3ms/step - loss: 7029.6650 - root_mean_squared_error: 83.8431 - val_loss: 6867.0332 - val_root_mean_squared_error: 82.8676\n",
      "Epoch 25/30\n",
      "155/155 [==============================] - 0s 2ms/step - loss: 7027.4453 - root_mean_squared_error: 83.8299 - val_loss: 6884.4736 - val_root_mean_squared_error: 82.9727\n",
      "Epoch 26/30\n",
      "155/155 [==============================] - 0s 2ms/step - loss: 7030.8887 - root_mean_squared_error: 83.8504 - val_loss: 6863.3184 - val_root_mean_squared_error: 82.8451\n",
      "Epoch 27/30\n",
      "155/155 [==============================] - 0s 2ms/step - loss: 7030.3770 - root_mean_squared_error: 83.8473 - val_loss: 6861.9492 - val_root_mean_squared_error: 82.8369\n",
      "Epoch 28/30\n",
      "155/155 [==============================] - 0s 2ms/step - loss: 7028.4043 - root_mean_squared_error: 83.8356 - val_loss: 6872.4844 - val_root_mean_squared_error: 82.9005\n",
      "Epoch 29/30\n",
      "155/155 [==============================] - 0s 2ms/step - loss: 7029.4263 - root_mean_squared_error: 83.8417 - val_loss: 6871.5522 - val_root_mean_squared_error: 82.8948\n",
      "Epoch 30/30\n",
      "155/155 [==============================] - 0s 2ms/step - loss: 7029.8438 - root_mean_squared_error: 83.8442 - val_loss: 6869.4458 - val_root_mean_squared_error: 82.8821\n",
      "62.21556854248047\n"
     ]
    },
    {
     "data": {
      "image/png": "[encoded data removed]",
      "text/plain": [
       "<Figure size 640x480 with 1 Axes>"
      ]
     },
     "metadata": {},
     "output_type": "display_data"
    }
   ],
   "source": [
    "# The following variables are the hyperparameters.\n",
    "learning_rate = 0.08\n",
    "epochs = 30\n",
    "batch_size = 100\n",
    "\n",
    "# Split the original training set into a reduced training set and a\n",
    "# validation set. \n",
    "validation_split = 0.09\n",
    "\n",
    "# Identify the feature and the label.\n",
    "my_feature = \"median_income\"    # the median income on a specific city block.\n",
    "my_label = \"median_house_value\" # the median house value on a specific city block.\n",
    "# That is, you're going to create a model that predicts house value based \n",
    "# solely on the neighborhood's median income.  \n",
    "shuffled_train_df = train_df.reindex(np.random.permutation(train_df.index))\n",
    "# Invoke the functions to build and train the model.\n",
    "my_model = build_model(learning_rate)\n",
    "epochs, rmse, history = train_model(my_model,shuffled_train_df, my_feature, \n",
    "                                    my_label, epochs, batch_size, \n",
    "                                    validation_split)\n",
    "\n",
    "plot_the_loss_curve(epochs, history[\"root_mean_squared_error\"], \n",
    "                    history[\"val_root_mean_squared_error\"])"
   ]
  },
  {
   "cell_type": "code",
   "execution_count": 9,
   "metadata": {},
   "outputs": [
    {
     "name": "stdout",
     "output_type": "stream",
     "text": [
      "30/30 [==============================] - 0s 1ms/step - loss: 7009.8315 - root_mean_squared_error: 83.7247\n"
     ]
    }
   ],
   "source": [
    "x_test = test_df[my_feature]\n",
    "y_test = test_df[my_label]\n",
    "\n",
    "results = my_model.evaluate(x_test, y_test, batch_size=batch_size)"
   ]
  },
  {
   "cell_type": "code",
   "execution_count": 10,
   "metadata": {},
   "outputs": [
    {
     "name": "stdout",
     "output_type": "stream",
     "text": [
      "30/30 [==============================] - 0s 2ms/step - loss: 7009.8315 - root_mean_squared_error: 83.7247\n"
     ]
    }
   ],
   "source": [
    "x_test = test_df[my_feature]\n",
    "y_test = test_df[my_label]\n",
    "\n",
    "results = my_model.evaluate(x_test, y_test, batch_size=batch_size)"
   ]
  },
  {
   "cell_type": "code",
   "execution_count": 11,
   "metadata": {},
   "outputs": [
    {
     "name": "stdout",
     "output_type": "stream",
     "text": [
      "30/30 [==============================] - 0s 2ms/step - loss: 7009.8315 - root_mean_squared_error: 83.7247\n"
     ]
    }
   ],
   "source": [
    "x_test = test_df[my_feature]\n",
    "y_test = test_df[my_label]\n",
    "\n",
    "results = my_model.evaluate(x_test, y_test, batch_size=batch_size)"
   ]
  },
  {
   "cell_type": "code",
   "execution_count": 12,
   "metadata": {},
   "outputs": [
    {
     "name": "stdout",
     "output_type": "stream",
     "text": [
      "30/30 [==============================] - 0s 3ms/step - loss: 7009.8315 - root_mean_squared_error: 83.7247\n"
     ]
    }
   ],
   "source": [
    "x_test = test_df[my_feature]\n",
    "y_test = test_df[my_label]\n",
    "\n",
    "results = my_model.evaluate(x_test, y_test, batch_size=batch_size)"
   ]
  }
 ],
 "metadata": {
  "kernelspec": {
   "display_name": "Python 3",
   "language": "python",
   "name": "python3"
  },
  "language_info": {
   "codemirror_mode": {
    "name": "ipython",
    "version": 3
   },
   "file_extension": ".py",
   "mimetype": "text/x-python",
   "name": "python",
   "nbconvert_exporter": "python",
   "pygments_lexer": "ipython3",
   "version": "3.11.2"
  },
  "orig_nbformat": 4,
  "vscode": {
   "interpreter": {
    "hash": "d417a21d97a2e6b8832d21dc44f5cbe4be6e18325f874a8bb8484565b928cd54"
   }
  }
 },
 "nbformat": 4,
 "nbformat_minor": 2
}
